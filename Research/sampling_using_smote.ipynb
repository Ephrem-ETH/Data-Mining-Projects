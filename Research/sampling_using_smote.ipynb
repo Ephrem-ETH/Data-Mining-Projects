{
 "cells": [
  {
   "cell_type": "code",
   "execution_count": 1,
   "metadata": {},
   "outputs": [
    {
     "name": "stderr",
     "output_type": "stream",
     "text": [
      "C:\\ProgramData\\Anaconda3\\lib\\site-packages\\sklearn\\cross_validation.py:44: DeprecationWarning: This module was deprecated in version 0.18 in favor of the model_selection module into which all the refactored classes and functions are moved. Also note that the interface of the new CV iterators are different from that of this module. This module will be removed in 0.20.\n",
      "  \"This module will be removed in 0.20.\", DeprecationWarning)\n",
      "C:\\ProgramData\\Anaconda3\\lib\\site-packages\\sklearn\\grid_search.py:43: DeprecationWarning: This module was deprecated in version 0.18 in favor of the model_selection module into which all the refactored classes and functions are moved. This module will be removed in 0.20.\n",
      "  DeprecationWarning)\n",
      "C:\\ProgramData\\Anaconda3\\lib\\site-packages\\sklearn\\lda.py:6: DeprecationWarning: lda.LDA has been moved to discriminant_analysis.LinearDiscriminantAnalysis in 0.17 and will be removed in 0.19\n",
      "  \"in 0.17 and will be removed in 0.19\", DeprecationWarning)\n",
      "C:\\ProgramData\\Anaconda3\\lib\\site-packages\\sklearn\\learning_curve.py:23: DeprecationWarning: This module was deprecated in version 0.18 in favor of the model_selection module into which all the functions are moved. This module will be removed in 0.20\n",
      "  DeprecationWarning)\n",
      "C:\\ProgramData\\Anaconda3\\lib\\site-packages\\sklearn\\qda.py:6: DeprecationWarning: qda.QDA has been moved to discriminant_analysis.QuadraticDiscriminantAnalysis in 0.17 and will be removed in 0.19.\n",
      "  \"in 0.17 and will be removed in 0.19.\", DeprecationWarning)\n"
     ]
    }
   ],
   "source": [
    "import pandas as pd\n",
    "import nltk\n",
    "import re\n",
    "from sklearn import *\n",
    "import time"
   ]
  },
  {
   "cell_type": "code",
   "execution_count": 2,
   "metadata": {
    "collapsed": true
   },
   "outputs": [],
   "source": [
    "def dataClean(tweets_raw):\n",
    "\tcleanTweets = []\n",
    "\tfor each in tweets_raw:\n",
    "\t\ttweet = each\n",
    "\t\ttweet = tweet.lower() #convert to lowercase\n",
    "\t\ttweet = re.sub(r'\\w+:\\/{2}[\\d\\w-]+(\\.[\\d\\w-]+)*(?:(?:\\/[^\\s/]*))*', '', tweet) #remove URL\n",
    "\t\ttweet = re.sub(r'(\\s)@\\w+', r'', tweet) #remove usernames\n",
    "\t\ttweet = re.sub(r'@\\w+', r'', tweet) #remove usernames\n",
    "\t\ttweet = re.sub('<[^<]+?>', '', tweet) #remove HTML tags\n",
    "\t\ttweet = re.sub(r'[<>!#@$:.,%\\?-]+', r'', tweet) #remove punctuation and special characters \n",
    "\t\tlower_case = tweet.lower() #tokenization \n",
    "\t\twords = lower_case.split()\n",
    "\t\ttweet = ' '.join([w for w in words if not w in nltk.corpus.stopwords.words(\"english\")]) #remove stopwords\n",
    "\t\tps = nltk.stem.PorterStemmer()\n",
    "\t\tstemmedTweet = [ps.stem(word) for word in tweet.split(\" \")]\n",
    "\t\tstemmedTweet = \" \".join(stemmedTweet)\n",
    "\t\ttweet = str(stemmedTweet)\n",
    "\t\ttweet = tweet.replace(\"'\", \"\")\n",
    "\t\ttweet = tweet.replace(\"\\\"\",\"\")\n",
    "\t\tcleanTweets.append(tweet)\n",
    "\treturn cleanTweets"
   ]
  },
  {
   "cell_type": "code",
   "execution_count": 3,
   "metadata": {
    "collapsed": true
   },
   "outputs": [],
   "source": [
    "def vectorization(clean_train_tweets,clean_test_tweets):\n",
    "\tvec = feature_extraction.text.TfidfVectorizer(min_df = 0.00125, max_df = 0.7, sublinear_tf=True, use_idf=True, stop_words=u'english', analyzer= 'word', ngram_range=(1,5),lowercase=True)\n",
    "\ttrain_vectors = vec.fit_transform(clean_train_tweets);test_vectors = vec.transform(clean_test_tweets)\n",
    "\treturn train_vectors,test_vectors"
   ]
  },
  {
   "cell_type": "code",
   "execution_count": 4,
   "metadata": {
    "collapsed": true
   },
   "outputs": [],
   "source": [
    "#Loading the sheets into data frames\n",
    "\n",
    "trainingFile = \"train.xlsx\"\n",
    "df_obama = pd.read_excel(trainingFile,sheetname='Obama')\n",
    "df_romney = pd.read_excel(trainingFile,sheetname='Romney')\n",
    "\n",
    "#Removing the mixed class and the !!! class\n",
    "\n",
    "df_obama = df_obama[(df_obama['Class'].isin((1,-1,0)))]\n",
    "df_romney = df_romney[(df_romney['Class'].isin((1,-1,0)))]\n",
    "\n",
    "#creating lists for raw tweets and classes\n",
    "\n",
    "obama_tweets_raw = df_obama['Anootated tweet']\n",
    "obama_class = df_obama['Class']\n",
    "romney_tweets_raw = df_romney['Anootated tweet']\n",
    "romney_class = df_romney['Class']\n",
    "\n",
    "obama_tweets_raw = obama_tweets_raw.tolist()\n",
    "romney_tweets_raw = romney_tweets_raw.tolist()\n",
    "obama_class_train = obama_class.tolist()\n",
    "romney_class_train = romney_class.tolist()\n",
    "\n",
    "romney_tweets = dataClean(romney_tweets_raw) #romney tweets cleaning\n",
    "obama_tweets = dataClean(obama_tweets_raw) #obama tweets cleaning"
   ]
  },
  {
   "cell_type": "code",
   "execution_count": 5,
   "metadata": {
    "collapsed": true
   },
   "outputs": [],
   "source": [
    "#obama_tweets_vectors = vectorization(obama_tweets)\n",
    "#romney_tweets_vectors = vectorization(romney_tweets)"
   ]
  },
  {
   "cell_type": "code",
   "execution_count": 6,
   "metadata": {
    "collapsed": true
   },
   "outputs": [],
   "source": [
    "def computation(clf):\n",
    "    start_time = time.clock()\n",
    "    #obama\n",
    "    preds = model_selection.cross_val_predict(clf, obama_tweets_vectors, obama_class_train, cv=10)\n",
    "    accScore = metrics.accuracy_score(obama_class_train,preds)\n",
    "    labels = [1,-1]\n",
    "    precision = metrics.precision_score(obama_class_train,preds,average=None,labels=labels)\n",
    "    recall = metrics.recall_score(obama_class_train,preds,average=None,labels=labels)\n",
    "    f1Score = metrics.f1_score(obama_class_train,preds,average=None,labels=labels)\n",
    "    print(clf);print(\"Obama: \\nOverall Acurracy: \",accScore,\"\\n\")\n",
    "    lbl = ['positive', 'negative']\n",
    "    for i in range(2):\n",
    "        print(\"Precision of %s class: %f\" %(lbl[i],precision[i]))\n",
    "        print(\"Recall of %s class: %f\" %(lbl[i],recall[i]))\n",
    "        print(\"F1-Score of %s class: %f\" %(lbl[i],f1Score[i]),\"\\n\")\n",
    "    #romney\n",
    "    preds = model_selection.cross_val_predict(clf, romney_tweets_vectors, romney_class_train, cv=10)\n",
    "    accScore = metrics.accuracy_score(romney_class_train,preds)\n",
    "    labels = [1,-1]\n",
    "    precision = metrics.precision_score(romney_class_train,preds,average=None,labels=labels)\n",
    "    recall = metrics.recall_score(romney_class_train,preds,average=None,labels=labels)\n",
    "    f1Score = metrics.f1_score(romney_class_train,preds,average=None,labels=labels)\n",
    "    print(\"Romney:\\nOverall Acurracy: \",accScore,\"\\n\")\n",
    "    lbl = ['positive', 'negative']\n",
    "    for i in range(2):\n",
    "        print(\"Precision of %s class: %f\" %(lbl[i],precision[i]))\n",
    "        print(\"Recall of %s class: %f\" %(lbl[i],recall[i]))\n",
    "        print(\"F1-Score of %s class: %f\" %(lbl[i],f1Score[i]),\"\\n\")\n",
    "    end_time = time.clock()\n",
    "    print(\"Total time taken: %0.2f seconds \\n\\n\"%(end_time-start_time))"
   ]
  },
  {
   "cell_type": "code",
   "execution_count": 7,
   "metadata": {},
   "outputs": [
    {
     "data": {
      "text/plain": [
       "'\\nfrom imblearn.over_sampling import SMOTE\\n\\nromney_tweets_vectors = romney_tweets_vectors.toarray()\\nsm = SMOTE(random_state=42)\\nromney_tweets_vectors, romney_class_train = sm.fit_sample(romney_tweets_vectors, romney_class_train)\\n\\nobama_tweets_vectors = obama_tweets_vectors.toarray()\\nsm = SMOTE(random_state=43)\\nobama_tweets_vectors, obama_class_train = sm.fit_sample(obama_tweets_vectors, obama_class_train)\\n'"
      ]
     },
     "execution_count": 7,
     "metadata": {},
     "output_type": "execute_result"
    }
   ],
   "source": [
    "'''\n",
    "from imblearn.over_sampling import SMOTE\n",
    "\n",
    "romney_tweets_vectors = romney_tweets_vectors.toarray()\n",
    "sm = SMOTE(random_state=42)\n",
    "romney_tweets_vectors, romney_class_train = sm.fit_sample(romney_tweets_vectors, romney_class_train)\n",
    "\n",
    "obama_tweets_vectors = obama_tweets_vectors.toarray()\n",
    "sm = SMOTE(random_state=43)\n",
    "obama_tweets_vectors, obama_class_train = sm.fit_sample(obama_tweets_vectors, obama_class_train)\n",
    "'''"
   ]
  },
  {
   "cell_type": "code",
   "execution_count": 8,
   "metadata": {},
   "outputs": [],
   "source": [
    "models = [naive_bayes.BernoulliNB(),svm.SVC(kernel='rbf', gamma=0.58, C=0.81),tree.DecisionTreeClassifier(random_state=0),ensemble.RandomForestClassifier(criterion='entropy', n_jobs = 10),linear_model.LogisticRegression(),linear_model.SGDClassifier()]\n",
    "\n",
    "#for each in models:\n",
    "    #computation(each)"
   ]
  },
  {
   "cell_type": "code",
   "execution_count": 9,
   "metadata": {},
   "outputs": [
    {
     "name": "stdout",
     "output_type": "stream",
     "text": [
      "Done\n"
     ]
    }
   ],
   "source": [
    "print('Done')"
   ]
  },
  {
   "cell_type": "code",
   "execution_count": 10,
   "metadata": {},
   "outputs": [],
   "source": [
    "testingFile = \"test.xlsx\"\n",
    "df_obama_test = pd.read_excel(testingFile,sheetname='Obama')\n",
    "df_romney_test = pd.read_excel(testingFile,sheetname='Romney')\n",
    "\n",
    "#Removing the mixed class and the !!! class\n",
    "\n",
    "df_obama_test = df_obama_test[(df_obama_test['Class'].isin((1,-1,0)))]\n",
    "df_romney_test = df_romney_test[(df_romney_test['Class'].isin((1,-1,0)))]\n",
    "\n",
    "#creating lists for raw tweets and classes\n",
    "\n",
    "obama_tweets_raw_test = df_obama_test['Anootated tweet']\n",
    "obama_class_test = df_obama_test['Class']\n",
    "romney_tweets_raw_test = df_romney_test['Anootated tweet']\n",
    "romney_class_test = df_romney_test['Class']\n",
    "\n",
    "obama_tweets_raw_test = obama_tweets_raw_test.tolist()\n",
    "romney_tweets_raw_test = romney_tweets_raw_test.tolist()\n",
    "obama_class_train_test = obama_class_test.tolist()\n",
    "romney_class_train_test = romney_class_test.tolist()\n",
    "\n",
    "romney_tweets_test = dataClean(romney_tweets_raw_test) #romney tweets cleaning\n",
    "obama_tweets_test = dataClean(obama_tweets_raw_test) #obama tweets cleaning\n",
    "\n",
    "obama_tweets_vectors,obama_tweets_vectors_test = vectorization(obama_tweets,obama_tweets_test)\n",
    "romney_tweets_vectors,romney_tweets_vectors_test = vectorization(romney_tweets,romney_tweets_test)"
   ]
  },
  {
   "cell_type": "code",
   "execution_count": 11,
   "metadata": {},
   "outputs": [
    {
     "name": "stderr",
     "output_type": "stream",
     "text": [
      "C:\\ProgramData\\Anaconda3\\lib\\site-packages\\imblearn\\base.py:306: UserWarning: The target type should be binary.\n",
      "  warnings.warn('The target type should be binary.')\n"
     ]
    }
   ],
   "source": [
    "from imblearn.over_sampling import SMOTE\n",
    "\n",
    "romney_tweets_vectors = romney_tweets_vectors.toarray()\n",
    "sm = SMOTE(random_state=42)\n",
    "romney_tweets_vectors, romney_class_train = sm.fit_sample(romney_tweets_vectors, romney_class_train)\n",
    "\n",
    "#obama_tweets_vectors = obama_tweets_vectors.toarray()\n",
    "#sm = SMOTE(random_state=43)\n",
    "#obama_tweets_vectors, obama_class_train = sm.fit_sample(obama_tweets_vectors, obama_class_train)"
   ]
  },
  {
   "cell_type": "code",
   "execution_count": 12,
   "metadata": {
    "collapsed": true
   },
   "outputs": [],
   "source": [
    "def computation_test(clf):\n",
    "    start_time = time.clock()\n",
    "    #obama\n",
    "    #preds = model_selection.cross_val_predict(clf, obama_tweets_vectors, obama_class_train, cv=10)\n",
    "    clf.fit(obama_tweets_vectors, obama_class_train)\n",
    "    preds = clf.predict(obama_tweets_vectors_test.toarray())\n",
    "    accScore = metrics.accuracy_score(obama_class_train_test,preds)\n",
    "    labels = [1,-1]\n",
    "    precision = metrics.precision_score(obama_class_train_test,preds,average=None,labels=labels)\n",
    "    recall = metrics.recall_score(obama_class_train_test,preds,average=None,labels=labels)\n",
    "    f1Score = metrics.f1_score(obama_class_train_test,preds,average=None,labels=labels)\n",
    "    print(clf);print(\"Obama: \\nOverall Acurracy: \",accScore,\"\\n\")\n",
    "    lbl = ['positive', 'negative']\n",
    "    for i in range(2):\n",
    "        print(\"Precision of %s class: %f\" %(lbl[i],precision[i]))\n",
    "        print(\"Recall of %s class: %f\" %(lbl[i],recall[i]))\n",
    "        print(\"F1-Score of %s class: %f\" %(lbl[i],f1Score[i]),\"\\n\")\n",
    "    #romney\n",
    "    #preds = model_selection.cross_val_predict(clf, romney_tweets_vectors, romney_class_train, cv=10)\n",
    "    clf.fit(romney_tweets_vectors, romney_class_train)\n",
    "    preds = clf.predict(romney_tweets_vectors_test.toarray())\n",
    "    accScore = metrics.accuracy_score(romney_class_train_test,preds)\n",
    "    labels = [1,-1]\n",
    "    precision = metrics.precision_score(romney_class_train_test,preds,average=None,labels=labels)\n",
    "    recall = metrics.recall_score(romney_class_train_test,preds,average=None,labels=labels)\n",
    "    f1Score = metrics.f1_score(romney_class_train_test,preds,average=None,labels=labels)\n",
    "    print(\"Romney:\\nOverall Acurracy: \",accScore,\"\\n\")\n",
    "    lbl = ['positive', 'negative']\n",
    "    for i in range(2):\n",
    "        print(\"Precision of %s class: %f\" %(lbl[i],precision[i]))\n",
    "        print(\"Recall of %s class: %f\" %(lbl[i],recall[i]))\n",
    "        print(\"F1-Score of %s class: %f\" %(lbl[i],f1Score[i]),\"\\n\")\n",
    "    end_time = time.clock()\n",
    "    print(\"Total time taken: %0.2f seconds \\n\\n\"%(end_time-start_time))"
   ]
  },
  {
   "cell_type": "code",
   "execution_count": 13,
   "metadata": {},
   "outputs": [
    {
     "name": "stdout",
     "output_type": "stream",
     "text": [
      "BernoulliNB(alpha=1.0, binarize=0.0, class_prior=None, fit_prior=True)\n",
      "Obama: \n",
      "Overall Acurracy:  0.535110199897 \n",
      "\n",
      "Precision of positive class: 0.541522\n",
      "Recall of positive class: 0.537801\n",
      "F1-Score of positive class: 0.539655 \n",
      "\n",
      "Precision of negative class: 0.579856\n",
      "Recall of negative class: 0.585756\n",
      "F1-Score of negative class: 0.582791 \n",
      "\n",
      "Romney:\n",
      "Overall Acurracy:  0.559473684211 \n",
      "\n",
      "Precision of positive class: 0.414414\n",
      "Recall of positive class: 0.716883\n",
      "F1-Score of positive class: 0.525214 \n",
      "\n",
      "Precision of negative class: 0.680401\n",
      "Recall of negative class: 0.636458\n",
      "F1-Score of negative class: 0.657696 \n",
      "\n",
      "Total time taken: 0.43 seconds \n",
      "\n",
      "\n",
      "SVC(C=0.81, cache_size=200, class_weight=None, coef0=0.0,\n",
      "  decision_function_shape=None, degree=3, gamma=0.58, kernel='rbf',\n",
      "  max_iter=-1, probability=False, random_state=None, shrinking=True,\n",
      "  tol=0.001, verbose=False)\n",
      "Obama: \n",
      "Overall Acurracy:  0.553049718093 \n",
      "\n",
      "Precision of positive class: 0.600868\n",
      "Recall of positive class: 0.475945\n",
      "F1-Score of positive class: 0.531160 \n",
      "\n",
      "Precision of negative class: 0.560302\n",
      "Recall of negative class: 0.648256\n",
      "F1-Score of negative class: 0.601078 \n",
      "\n",
      "Romney:\n",
      "Overall Acurracy:  0.588421052632 \n",
      "\n",
      "Precision of positive class: 0.535294\n",
      "Recall of positive class: 0.472727\n",
      "F1-Score of positive class: 0.502069 \n",
      "\n",
      "Precision of negative class: 0.601322\n",
      "Recall of negative class: 0.853125\n",
      "F1-Score of negative class: 0.705426 \n",
      "\n",
      "Total time taken: 117.75 seconds \n",
      "\n",
      "\n",
      "DecisionTreeClassifier(class_weight=None, criterion='gini', max_depth=None,\n",
      "            max_features=None, max_leaf_nodes=None,\n",
      "            min_impurity_split=1e-07, min_samples_leaf=1,\n",
      "            min_samples_split=2, min_weight_fraction_leaf=0.0,\n",
      "            presort=False, random_state=0, splitter='best')\n",
      "Obama: \n",
      "Overall Acurracy:  0.469502819067 \n",
      "\n",
      "Precision of positive class: 0.455497\n",
      "Recall of positive class: 0.448454\n",
      "F1-Score of positive class: 0.451948 \n",
      "\n",
      "Precision of negative class: 0.497771\n",
      "Recall of negative class: 0.486919\n",
      "F1-Score of negative class: 0.492285 \n",
      "\n",
      "Romney:\n",
      "Overall Acurracy:  0.513157894737 \n",
      "\n",
      "Precision of positive class: 0.373757\n",
      "Recall of positive class: 0.488312\n",
      "F1-Score of positive class: 0.423423 \n",
      "\n",
      "Precision of negative class: 0.623232\n",
      "Recall of negative class: 0.642708\n",
      "F1-Score of negative class: 0.632821 \n",
      "\n",
      "Total time taken: 10.15 seconds \n",
      "\n",
      "\n",
      "RandomForestClassifier(bootstrap=True, class_weight=None, criterion='entropy',\n",
      "            max_depth=None, max_features='auto', max_leaf_nodes=None,\n",
      "            min_impurity_split=1e-07, min_samples_leaf=1,\n",
      "            min_samples_split=2, min_weight_fraction_leaf=0.0,\n",
      "            n_estimators=10, n_jobs=10, oob_score=False, random_state=None,\n",
      "            verbose=0, warm_start=False)\n",
      "Obama: \n",
      "Overall Acurracy:  0.520246027678 \n",
      "\n",
      "Precision of positive class: 0.511797\n",
      "Recall of positive class: 0.484536\n",
      "F1-Score of positive class: 0.497793 \n",
      "\n",
      "Precision of negative class: 0.552139\n",
      "Recall of negative class: 0.600291\n",
      "F1-Score of negative class: 0.575209 \n",
      "\n",
      "Romney:\n",
      "Overall Acurracy:  0.531052631579 \n",
      "\n",
      "Precision of positive class: 0.402414\n",
      "Recall of positive class: 0.519481\n",
      "F1-Score of positive class: 0.453515 \n",
      "\n",
      "Precision of negative class: 0.621269\n",
      "Recall of negative class: 0.693750\n",
      "F1-Score of negative class: 0.655512 \n",
      "\n",
      "Total time taken: 2.18 seconds \n",
      "\n",
      "\n",
      "LogisticRegression(C=1.0, class_weight=None, dual=False, fit_intercept=True,\n",
      "          intercept_scaling=1, max_iter=100, multi_class='ovr', n_jobs=1,\n",
      "          penalty='l2', random_state=None, solver='liblinear', tol=0.0001,\n",
      "          verbose=0, warm_start=False)\n",
      "Obama: \n",
      "Overall Acurracy:  0.55048692978 \n",
      "\n",
      "Precision of positive class: 0.582645\n",
      "Recall of positive class: 0.484536\n",
      "F1-Score of positive class: 0.529081 \n",
      "\n",
      "Precision of negative class: 0.582192\n",
      "Recall of negative class: 0.617733\n",
      "F1-Score of negative class: 0.599436 \n",
      "\n",
      "Romney:\n",
      "Overall Acurracy:  0.566842105263 \n",
      "\n",
      "Precision of positive class: 0.417077\n",
      "Recall of positive class: 0.659740\n",
      "F1-Score of positive class: 0.511066 \n",
      "\n",
      "Precision of negative class: 0.652256\n",
      "Recall of negative class: 0.722917\n",
      "F1-Score of negative class: 0.685771 \n",
      "\n",
      "Total time taken: 0.18 seconds \n",
      "\n",
      "\n",
      "SGDClassifier(alpha=0.0001, average=False, class_weight=None, epsilon=0.1,\n",
      "       eta0=0.0, fit_intercept=True, l1_ratio=0.15,\n",
      "       learning_rate='optimal', loss='hinge', n_iter=5, n_jobs=1,\n",
      "       penalty='l2', power_t=0.5, random_state=None, shuffle=True,\n",
      "       verbose=0, warm_start=False)\n",
      "Obama: \n",
      "Overall Acurracy:  0.547411583803 \n",
      "\n",
      "Precision of positive class: 0.563327\n",
      "Recall of positive class: 0.512027\n",
      "F1-Score of positive class: 0.536454 \n",
      "\n",
      "Precision of negative class: 0.585859\n",
      "Recall of negative class: 0.590116\n",
      "F1-Score of negative class: 0.587980 \n",
      "\n",
      "Romney:\n",
      "Overall Acurracy:  0.555263157895 \n",
      "\n",
      "Precision of positive class: 0.420870\n",
      "Recall of positive class: 0.628571\n",
      "F1-Score of positive class: 0.504167 \n",
      "\n",
      "Precision of negative class: 0.639282\n",
      "Recall of negative class: 0.705208\n",
      "F1-Score of negative class: 0.670629 \n",
      "\n",
      "Total time taken: 0.51 seconds \n",
      "\n",
      "\n"
     ]
    }
   ],
   "source": [
    "for each in models:\n",
    "    computation_test(each)"
   ]
  },
  {
   "cell_type": "code",
   "execution_count": null,
   "metadata": {
    "collapsed": true
   },
   "outputs": [],
   "source": []
  }
 ],
 "metadata": {
  "kernelspec": {
   "display_name": "Python 3",
   "language": "python",
   "name": "python3"
  },
  "language_info": {
   "codemirror_mode": {
    "name": "ipython",
    "version": 3
   },
   "file_extension": ".py",
   "mimetype": "text/x-python",
   "name": "python",
   "nbconvert_exporter": "python",
   "pygments_lexer": "ipython3",
   "version": "3.5.2"
  }
 },
 "nbformat": 4,
 "nbformat_minor": 2
}
